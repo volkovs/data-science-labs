{
 "cells": [
  {
   "cell_type": "code",
   "execution_count": 1,
   "metadata": {
    "_cell_guid": "b1076dfc-b9ad-4769-8c92-a6c4dae69d19",
    "_uuid": "8f2839f25d086af736a60e9eeb907d3b93b6e0e5",
    "colab": {},
    "colab_type": "code",
    "id": "U2D2gTdJVp90"
   },
   "outputs": [],
   "source": [
    "import numpy as np\n",
    "import pandas as pd\n",
    "import seaborn as sns\n",
    "import matplotlib.pyplot as plt\n",
    "from collections import Counter\n",
    "import datetime"
   ]
  },
  {
   "cell_type": "code",
   "execution_count": 2,
   "metadata": {
    "_cell_guid": "79c7e3d0-c299-4dcb-8224-4455121ee9b0",
    "_uuid": "d629ff2d2480ee46fbb7e2d37f6b5fab8052498a",
    "colab": {},
    "colab_type": "code",
    "id": "oyGfxL3eVp9-"
   },
   "outputs": [
    {
     "data": {
      "text/html": [
       "<div>\n",
       "<style scoped>\n",
       "    .dataframe tbody tr th:only-of-type {\n",
       "        vertical-align: middle;\n",
       "    }\n",
       "\n",
       "    .dataframe tbody tr th {\n",
       "        vertical-align: top;\n",
       "    }\n",
       "\n",
       "    .dataframe thead th {\n",
       "        text-align: right;\n",
       "    }\n",
       "</style>\n",
       "<table border=\"1\" class=\"dataframe\">\n",
       "  <thead>\n",
       "    <tr style=\"text-align: right;\">\n",
       "      <th></th>\n",
       "      <th>imdb_id</th>\n",
       "      <th>budget</th>\n",
       "      <th>revenue</th>\n",
       "      <th>original_title</th>\n",
       "      <th>cast</th>\n",
       "      <th>director</th>\n",
       "      <th>tagline</th>\n",
       "      <th>overview</th>\n",
       "      <th>runtime</th>\n",
       "      <th>genres</th>\n",
       "      <th>production_companies</th>\n",
       "      <th>release_date</th>\n",
       "      <th>vote_average</th>\n",
       "      <th>release_year</th>\n",
       "    </tr>\n",
       "  </thead>\n",
       "  <tbody>\n",
       "    <tr>\n",
       "      <th>1463</th>\n",
       "      <td>tt0479143</td>\n",
       "      <td>24000000</td>\n",
       "      <td>155721132</td>\n",
       "      <td>Rocky Balboa</td>\n",
       "      <td>Sylvester Stallone|Burt Young|Milo Ventimiglia...</td>\n",
       "      <td>Sylvester Stallone</td>\n",
       "      <td>It ain't over 'til it's over.</td>\n",
       "      <td>When he loses a highly publicized virtual boxi...</td>\n",
       "      <td>102</td>\n",
       "      <td>Drama</td>\n",
       "      <td>Columbia Pictures|Revolution Studios|Rogue Mar...</td>\n",
       "      <td>12/20/2006</td>\n",
       "      <td>6.4</td>\n",
       "      <td>2006</td>\n",
       "    </tr>\n",
       "    <tr>\n",
       "      <th>997</th>\n",
       "      <td>tt1659337</td>\n",
       "      <td>13000000</td>\n",
       "      <td>33400000</td>\n",
       "      <td>The Perks of Being a Wallflower</td>\n",
       "      <td>Logan Lerman|Emma Watson|Ezra Miller|Paul Rudd...</td>\n",
       "      <td>Stephen Chbosky</td>\n",
       "      <td>We are infinite.</td>\n",
       "      <td>A coming-of-age story based on the best-sellin...</td>\n",
       "      <td>102</td>\n",
       "      <td>Drama|Romance</td>\n",
       "      <td>Summit Entertainment|Mr. Mudd Production</td>\n",
       "      <td>9/20/2012</td>\n",
       "      <td>7.6</td>\n",
       "      <td>2012</td>\n",
       "    </tr>\n",
       "    <tr>\n",
       "      <th>604</th>\n",
       "      <td>tt1099212</td>\n",
       "      <td>37000000</td>\n",
       "      <td>392616625</td>\n",
       "      <td>Twilight</td>\n",
       "      <td>Kristen Stewart|Robert Pattinson|Billy Burke|T...</td>\n",
       "      <td>Catherine Hardwicke</td>\n",
       "      <td>When you can live forever, what do you live for?</td>\n",
       "      <td>When Bella Swan moves to a small town in the P...</td>\n",
       "      <td>122</td>\n",
       "      <td>Adventure|Fantasy|Drama|Romance</td>\n",
       "      <td>Summit Entertainment|Maverick Films|Imprint En...</td>\n",
       "      <td>11/20/2008</td>\n",
       "      <td>5.8</td>\n",
       "      <td>2008</td>\n",
       "    </tr>\n",
       "    <tr>\n",
       "      <th>386</th>\n",
       "      <td>tt1250777</td>\n",
       "      <td>28000000</td>\n",
       "      <td>96188903</td>\n",
       "      <td>Kick-Ass</td>\n",
       "      <td>Aaron Taylor-Johnson|ChloÃ« Grace Moretz|Chris...</td>\n",
       "      <td>Matthew Vaughn</td>\n",
       "      <td>Shut up. Kick ass.</td>\n",
       "      <td>Dave Lizewski is an unnoticed high school stud...</td>\n",
       "      <td>117</td>\n",
       "      <td>Action|Crime</td>\n",
       "      <td>Lions Gate</td>\n",
       "      <td>3/22/2010</td>\n",
       "      <td>7.0</td>\n",
       "      <td>2010</td>\n",
       "    </tr>\n",
       "    <tr>\n",
       "      <th>2</th>\n",
       "      <td>tt2908446</td>\n",
       "      <td>110000000</td>\n",
       "      <td>295238201</td>\n",
       "      <td>Insurgent</td>\n",
       "      <td>Shailene Woodley|Theo James|Kate Winslet|Ansel...</td>\n",
       "      <td>Robert Schwentke</td>\n",
       "      <td>One Choice Can Destroy You</td>\n",
       "      <td>Beatrice Prior must confront her inner demons ...</td>\n",
       "      <td>119</td>\n",
       "      <td>Adventure|Science Fiction|Thriller</td>\n",
       "      <td>Summit Entertainment|Mandeville Films|Red Wago...</td>\n",
       "      <td>3/18/2015</td>\n",
       "      <td>6.3</td>\n",
       "      <td>2015</td>\n",
       "    </tr>\n",
       "  </tbody>\n",
       "</table>\n",
       "</div>"
      ],
      "text/plain": [
       "        imdb_id     budget    revenue                   original_title  \\\n",
       "1463  tt0479143   24000000  155721132                     Rocky Balboa   \n",
       "997   tt1659337   13000000   33400000  The Perks of Being a Wallflower   \n",
       "604   tt1099212   37000000  392616625                         Twilight   \n",
       "386   tt1250777   28000000   96188903                         Kick-Ass   \n",
       "2     tt2908446  110000000  295238201                        Insurgent   \n",
       "\n",
       "                                                   cast             director  \\\n",
       "1463  Sylvester Stallone|Burt Young|Milo Ventimiglia...   Sylvester Stallone   \n",
       "997   Logan Lerman|Emma Watson|Ezra Miller|Paul Rudd...      Stephen Chbosky   \n",
       "604   Kristen Stewart|Robert Pattinson|Billy Burke|T...  Catherine Hardwicke   \n",
       "386   Aaron Taylor-Johnson|ChloÃ« Grace Moretz|Chris...       Matthew Vaughn   \n",
       "2     Shailene Woodley|Theo James|Kate Winslet|Ansel...     Robert Schwentke   \n",
       "\n",
       "                                               tagline  \\\n",
       "1463                     It ain't over 'til it's over.   \n",
       "997                                   We are infinite.   \n",
       "604   When you can live forever, what do you live for?   \n",
       "386                                 Shut up. Kick ass.   \n",
       "2                           One Choice Can Destroy You   \n",
       "\n",
       "                                               overview  runtime  \\\n",
       "1463  When he loses a highly publicized virtual boxi...      102   \n",
       "997   A coming-of-age story based on the best-sellin...      102   \n",
       "604   When Bella Swan moves to a small town in the P...      122   \n",
       "386   Dave Lizewski is an unnoticed high school stud...      117   \n",
       "2     Beatrice Prior must confront her inner demons ...      119   \n",
       "\n",
       "                                  genres  \\\n",
       "1463                               Drama   \n",
       "997                        Drama|Romance   \n",
       "604      Adventure|Fantasy|Drama|Romance   \n",
       "386                         Action|Crime   \n",
       "2     Adventure|Science Fiction|Thriller   \n",
       "\n",
       "                                   production_companies release_date  \\\n",
       "1463  Columbia Pictures|Revolution Studios|Rogue Mar...   12/20/2006   \n",
       "997            Summit Entertainment|Mr. Mudd Production    9/20/2012   \n",
       "604   Summit Entertainment|Maverick Films|Imprint En...   11/20/2008   \n",
       "386                                          Lions Gate    3/22/2010   \n",
       "2     Summit Entertainment|Mandeville Films|Red Wago...    3/18/2015   \n",
       "\n",
       "      vote_average  release_year  \n",
       "1463           6.4          2006  \n",
       "997            7.6          2012  \n",
       "604            5.8          2008  \n",
       "386            7.0          2010  \n",
       "2              6.3          2015  "
      ]
     },
     "execution_count": 2,
     "metadata": {},
     "output_type": "execute_result"
    }
   ],
   "source": [
    "data = pd.read_csv('movie_bd_v5.csv', encoding='utf-8')\n",
    "data.sample(5)"
   ]
  },
  {
   "cell_type": "markdown",
   "metadata": {
    "colab_type": "text",
    "id": "DTIt7ezGVp-G"
   },
   "source": [
    "# Предобработка"
   ]
  },
  {
   "cell_type": "code",
   "execution_count": 38,
   "metadata": {
    "colab": {},
    "colab_type": "code",
    "id": "jNb40DwKVp-H"
   },
   "outputs": [
    {
     "name": "stdout",
     "output_type": "stream",
     "text": [
      "<class 'pandas.core.frame.DataFrame'>\n",
      "RangeIndex: 1889 entries, 0 to 1888\n",
      "Data columns (total 16 columns):\n",
      " #   Column                Non-Null Count  Dtype         \n",
      "---  ------                --------------  -----         \n",
      " 0   imdb_id               1889 non-null   object        \n",
      " 1   budget                1889 non-null   int64         \n",
      " 2   revenue               1889 non-null   int64         \n",
      " 3   original_title        1889 non-null   object        \n",
      " 4   cast                  1889 non-null   object        \n",
      " 5   director              1889 non-null   object        \n",
      " 6   tagline               1889 non-null   object        \n",
      " 7   overview              1889 non-null   object        \n",
      " 8   runtime               1889 non-null   int64         \n",
      " 9   genres                1889 non-null   object        \n",
      " 10  production_companies  1889 non-null   object        \n",
      " 11  release_date          1889 non-null   datetime64[ns]\n",
      " 12  vote_average          1889 non-null   float64       \n",
      " 13  release_year          1889 non-null   int64         \n",
      " 14  profit                1889 non-null   int64         \n",
      " 15  release_month         1889 non-null   int64         \n",
      "dtypes: datetime64[ns](1), float64(1), int64(6), object(8)\n",
      "memory usage: 236.2+ KB\n"
     ]
    },
    {
     "data": {
      "text/html": [
       "<div>\n",
       "<style scoped>\n",
       "    .dataframe tbody tr th:only-of-type {\n",
       "        vertical-align: middle;\n",
       "    }\n",
       "\n",
       "    .dataframe tbody tr th {\n",
       "        vertical-align: top;\n",
       "    }\n",
       "\n",
       "    .dataframe thead th {\n",
       "        text-align: right;\n",
       "    }\n",
       "</style>\n",
       "<table border=\"1\" class=\"dataframe\">\n",
       "  <thead>\n",
       "    <tr style=\"text-align: right;\">\n",
       "      <th></th>\n",
       "      <th>imdb_id</th>\n",
       "      <th>budget</th>\n",
       "      <th>revenue</th>\n",
       "      <th>original_title</th>\n",
       "      <th>cast</th>\n",
       "      <th>director</th>\n",
       "      <th>tagline</th>\n",
       "      <th>overview</th>\n",
       "      <th>runtime</th>\n",
       "      <th>genres</th>\n",
       "      <th>production_companies</th>\n",
       "      <th>release_date</th>\n",
       "      <th>vote_average</th>\n",
       "      <th>release_year</th>\n",
       "      <th>profit</th>\n",
       "      <th>release_month</th>\n",
       "    </tr>\n",
       "  </thead>\n",
       "  <tbody>\n",
       "    <tr>\n",
       "      <th>348</th>\n",
       "      <td>tt1225822</td>\n",
       "      <td>8000000</td>\n",
       "      <td>10848783</td>\n",
       "      <td>Extract</td>\n",
       "      <td>[Jason Bateman, Mila Kunis, Kristen Wiig, Ben ...</td>\n",
       "      <td>[Mike Judge]</td>\n",
       "      <td>Sticking it to the man has never looked so good.</td>\n",
       "      <td>The owner of a factory that produces flavor ex...</td>\n",
       "      <td>92</td>\n",
       "      <td>[Comedy]</td>\n",
       "      <td>[Miramax Films]</td>\n",
       "      <td>2009-09-03</td>\n",
       "      <td>5.8</td>\n",
       "      <td>2009</td>\n",
       "      <td>2848783</td>\n",
       "      <td>9</td>\n",
       "    </tr>\n",
       "    <tr>\n",
       "      <th>166</th>\n",
       "      <td>tt2883512</td>\n",
       "      <td>11000000</td>\n",
       "      <td>45967935</td>\n",
       "      <td>Chef</td>\n",
       "      <td>[Jon Favreau, John Leguizamo, Bobby Cannavale,...</td>\n",
       "      <td>[Jon Favreau]</td>\n",
       "      <td>Starting from scratch never tasted so good</td>\n",
       "      <td>A chef who loses his restaurant job starts up ...</td>\n",
       "      <td>115</td>\n",
       "      <td>[Comedy]</td>\n",
       "      <td>[Open Road Films, Aldamisa Entertainment, Kilb...</td>\n",
       "      <td>2014-05-08</td>\n",
       "      <td>7.2</td>\n",
       "      <td>2014</td>\n",
       "      <td>34967935</td>\n",
       "      <td>5</td>\n",
       "    </tr>\n",
       "    <tr>\n",
       "      <th>1136</th>\n",
       "      <td>tt0318155</td>\n",
       "      <td>80000000</td>\n",
       "      <td>68514844</td>\n",
       "      <td>Looney Tunes: Back in Action</td>\n",
       "      <td>[Brendan Fraser, Jenna Elfman, Steve Martin, T...</td>\n",
       "      <td>[Joe Dante]</td>\n",
       "      <td>Real life has never been so animated.</td>\n",
       "      <td>Bugs Bunny and Daffy Duck are up to their feud...</td>\n",
       "      <td>90</td>\n",
       "      <td>[Animation, Comedy, Family]</td>\n",
       "      <td>[Lonely Film Productions GmbH &amp; Co. KG., Warne...</td>\n",
       "      <td>2003-11-14</td>\n",
       "      <td>5.5</td>\n",
       "      <td>2003</td>\n",
       "      <td>-11485156</td>\n",
       "      <td>11</td>\n",
       "    </tr>\n",
       "    <tr>\n",
       "      <th>1212</th>\n",
       "      <td>tt1091191</td>\n",
       "      <td>40000000</td>\n",
       "      <td>149295601</td>\n",
       "      <td>Lone Survivor</td>\n",
       "      <td>[Mark Wahlberg, Taylor Kitsch, Emile Hirsch, B...</td>\n",
       "      <td>[Peter Berg]</td>\n",
       "      <td>Based on True Acts of Courage</td>\n",
       "      <td>Based on the failed June 28, 2005 mission \"Ope...</td>\n",
       "      <td>121</td>\n",
       "      <td>[Action, Drama, Thriller, War]</td>\n",
       "      <td>[Universal Pictures, Weed Road Pictures, Herri...</td>\n",
       "      <td>2013-12-24</td>\n",
       "      <td>7.4</td>\n",
       "      <td>2013</td>\n",
       "      <td>109295601</td>\n",
       "      <td>12</td>\n",
       "    </tr>\n",
       "    <tr>\n",
       "      <th>1737</th>\n",
       "      <td>tt0425413</td>\n",
       "      <td>10000000</td>\n",
       "      <td>33000000</td>\n",
       "      <td>Run Fatboy Run</td>\n",
       "      <td>[Simon Pegg, Thandie Newton, Hank Azaria, Dyla...</td>\n",
       "      <td>[David Schwimmer]</td>\n",
       "      <td>Love. Commitment. Responsibility. There's noth...</td>\n",
       "      <td>Five years after jilting his pregnant fiancÃ©e...</td>\n",
       "      <td>100</td>\n",
       "      <td>[Comedy, Romance]</td>\n",
       "      <td>[Entertainment Films, Material Entertainment, ...</td>\n",
       "      <td>2007-09-06</td>\n",
       "      <td>6.2</td>\n",
       "      <td>2007</td>\n",
       "      <td>23000000</td>\n",
       "      <td>9</td>\n",
       "    </tr>\n",
       "  </tbody>\n",
       "</table>\n",
       "</div>"
      ],
      "text/plain": [
       "        imdb_id    budget    revenue                original_title  \\\n",
       "348   tt1225822   8000000   10848783                       Extract   \n",
       "166   tt2883512  11000000   45967935                          Chef   \n",
       "1136  tt0318155  80000000   68514844  Looney Tunes: Back in Action   \n",
       "1212  tt1091191  40000000  149295601                 Lone Survivor   \n",
       "1737  tt0425413  10000000   33000000                Run Fatboy Run   \n",
       "\n",
       "                                                   cast           director  \\\n",
       "348   [Jason Bateman, Mila Kunis, Kristen Wiig, Ben ...       [Mike Judge]   \n",
       "166   [Jon Favreau, John Leguizamo, Bobby Cannavale,...      [Jon Favreau]   \n",
       "1136  [Brendan Fraser, Jenna Elfman, Steve Martin, T...        [Joe Dante]   \n",
       "1212  [Mark Wahlberg, Taylor Kitsch, Emile Hirsch, B...       [Peter Berg]   \n",
       "1737  [Simon Pegg, Thandie Newton, Hank Azaria, Dyla...  [David Schwimmer]   \n",
       "\n",
       "                                                tagline  \\\n",
       "348    Sticking it to the man has never looked so good.   \n",
       "166          Starting from scratch never tasted so good   \n",
       "1136              Real life has never been so animated.   \n",
       "1212                      Based on True Acts of Courage   \n",
       "1737  Love. Commitment. Responsibility. There's noth...   \n",
       "\n",
       "                                               overview  runtime  \\\n",
       "348   The owner of a factory that produces flavor ex...       92   \n",
       "166   A chef who loses his restaurant job starts up ...      115   \n",
       "1136  Bugs Bunny and Daffy Duck are up to their feud...       90   \n",
       "1212  Based on the failed June 28, 2005 mission \"Ope...      121   \n",
       "1737  Five years after jilting his pregnant fiancÃ©e...      100   \n",
       "\n",
       "                              genres  \\\n",
       "348                         [Comedy]   \n",
       "166                         [Comedy]   \n",
       "1136     [Animation, Comedy, Family]   \n",
       "1212  [Action, Drama, Thriller, War]   \n",
       "1737               [Comedy, Romance]   \n",
       "\n",
       "                                   production_companies release_date  \\\n",
       "348                                     [Miramax Films]   2009-09-03   \n",
       "166   [Open Road Films, Aldamisa Entertainment, Kilb...   2014-05-08   \n",
       "1136  [Lonely Film Productions GmbH & Co. KG., Warne...   2003-11-14   \n",
       "1212  [Universal Pictures, Weed Road Pictures, Herri...   2013-12-24   \n",
       "1737  [Entertainment Films, Material Entertainment, ...   2007-09-06   \n",
       "\n",
       "      vote_average  release_year     profit  release_month  \n",
       "348            5.8          2009    2848783              9  \n",
       "166            7.2          2014   34967935              5  \n",
       "1136           5.5          2003  -11485156             11  \n",
       "1212           7.4          2013  109295601             12  \n",
       "1737           6.2          2007   23000000              9  "
      ]
     },
     "metadata": {},
     "output_type": "display_data"
    }
   ],
   "source": [
    "answers = {}\n",
    "\n",
    "# Backing up read data\n",
    "original_data = data.copy()\n",
    "df = data.copy()\n",
    "\n",
    "# Converting types\n",
    "df.release_date = df.release_date.apply(lambda release_date: datetime.datetime.strptime(release_date, '%m/%d/%Y'))\n",
    "df.cast = df.cast.apply(lambda act: act.split(sep = '|'))\n",
    "df.genres = df.genres.apply(lambda genre: genre.split(sep = '|'))\n",
    "df.production_companies = df.production_companies.apply(lambda pc: pc.split(sep = '|'))\n",
    "df.director = df.director.apply(lambda director: director.split(sep = '|'))\n",
    "\n",
    "# Adding calculated columns\n",
    "df['profit'] = df.revenue - df.budget\n",
    "df['release_month'] = df.release_date.map(lambda release_date: release_date.month)\n",
    "\n",
    "# There is a contradiction - the task needs order number in answers and forbids to use the list of answers in the code\n",
    "def format_movie(answer_as_series):\n",
    "    return '{}. {} ({})'.format('Вы думаете и в жизни у вас будут варианты ответов?', answer_as_series.original_title, answer_as_series.imdb_id)\n",
    "\n",
    "# Accepts data frame and a function to get array value from a series.\n",
    "def flat_map(df, f):\n",
    "    return [x for row in df.itertuples() for x in f(row)]\n",
    "\n",
    "# Sorts dictionary keys by according values\n",
    "def sort_dictionary_by_value(dictionary):\n",
    "    return {k: v for k, v in sorted(dictionary.items(), reverse=True, key=lambda item: item[1])}\n",
    "\n",
    "def count_by_collection_item(df, collection_provider, count_provider=lambda row: 1):\n",
    "    count_by_collection_item = Counter()\n",
    "    for row in df.itertuples():\n",
    "        for director in collection_provider(row):\n",
    "            count_by_collection_item[director] += count_provider(row)\n",
    "    return count_by_collection_item\n",
    "\n",
    "\n",
    "# Checking data quality\n",
    "df.info()\n",
    "display(df.sample(5))\n",
    "# df.imdb_id.nunique()        # 1889\n",
    "# df.original_title.nunique() # 1887\n"
   ]
  },
  {
   "cell_type": "markdown",
   "metadata": {
    "colab_type": "text",
    "id": "YxZaH-nPVp-L"
   },
   "source": [
    "# 1. У какого фильма из списка самый большой бюджет?"
   ]
  },
  {
   "cell_type": "markdown",
   "metadata": {
    "colab_type": "text",
    "id": "Nd-G5gX6Vp-M"
   },
   "source": [
    "Использовать варианты ответов в коде решения запрещено.    \n",
    "Вы думаете и в жизни у вас будут варианты ответов?)"
   ]
  },
  {
   "cell_type": "code",
   "execution_count": 4,
   "metadata": {
    "colab": {},
    "colab_type": "code",
    "id": "dZwb3m28Vp-S"
   },
   "outputs": [
    {
     "name": "stdout",
     "output_type": "stream",
     "text": [
      "Вы думаете и в жизни у вас будут варианты ответов?. Pirates of the Caribbean: On Stranger Tides (tt1298650)\n"
     ]
    }
   ],
   "source": [
    "found = df[df.budget == df.budget.max()].iloc[0]\n",
    "answers['1'] = format_movie(found)\n",
    "print(answers['1'])"
   ]
  },
  {
   "cell_type": "markdown",
   "metadata": {
    "colab_type": "text",
    "id": "K7L3nbRXVp-X"
   },
   "source": [
    "ВАРИАНТ 2"
   ]
  },
  {
   "cell_type": "code",
   "execution_count": 5,
   "metadata": {
    "colab": {},
    "colab_type": "code",
    "id": "OGaoQI7rVp-X"
   },
   "outputs": [
    {
     "name": "stdout",
     "output_type": "stream",
     "text": [
      "Вы думаете и в жизни у вас будут варианты ответов?. Pirates of the Caribbean: On Stranger Tides (tt1298650)\n"
     ]
    }
   ],
   "source": [
    "found = df.query('budget == ' + str(df.budget.max())).iloc[0]\n",
    "\n",
    "answers['1'] = format_movie(found)\n",
    "print(answers['1'])"
   ]
  },
  {
   "cell_type": "markdown",
   "metadata": {
    "colab_type": "text",
    "id": "FNRbbI3vVp-c"
   },
   "source": [
    "# 2. Какой из фильмов самый длительный (в минутах)?"
   ]
  },
  {
   "cell_type": "code",
   "execution_count": 6,
   "metadata": {
    "colab": {},
    "colab_type": "code",
    "id": "vHAoEXNTVp-d"
   },
   "outputs": [
    {
     "name": "stdout",
     "output_type": "stream",
     "text": [
      "Вы думаете и в жизни у вас будут варианты ответов?. Gods and Generals (tt0279111) 214\n"
     ]
    }
   ],
   "source": [
    "found = df[df.runtime == df.runtime.max()].iloc[0]\n",
    "\n",
    "answers['2'] = format_movie(found)\n",
    "print(answers['2'], found.runtime)"
   ]
  },
  {
   "cell_type": "markdown",
   "metadata": {
    "colab_type": "text",
    "id": "bapLlpW8Vp-k"
   },
   "source": [
    "# 3. Какой из фильмов самый короткий (в минутах)?\n",
    "\n",
    "\n",
    "\n"
   ]
  },
  {
   "cell_type": "code",
   "execution_count": 7,
   "metadata": {
    "colab": {},
    "colab_type": "code",
    "id": "YBxaSHuAVp-l"
   },
   "outputs": [
    {
     "name": "stdout",
     "output_type": "stream",
     "text": [
      "Вы думаете и в жизни у вас будут варианты ответов?. Winnie the Pooh (tt1449283) 63\n"
     ]
    }
   ],
   "source": [
    "found = df[df.runtime == df.runtime.min()].iloc[0]\n",
    "\n",
    "answers['3'] = format_movie(found)\n",
    "print(answers['3'], found.runtime)"
   ]
  },
  {
   "cell_type": "markdown",
   "metadata": {
    "colab_type": "text",
    "id": "TfQbxbfNVp-p"
   },
   "source": [
    "# 4. Какова средняя длительность фильмов?\n"
   ]
  },
  {
   "cell_type": "code",
   "execution_count": 8,
   "metadata": {
    "colab": {},
    "colab_type": "code",
    "id": "5K6dKZYVVp-q"
   },
   "outputs": [
    {
     "name": "stdout",
     "output_type": "stream",
     "text": [
      "110\n"
     ]
    }
   ],
   "source": [
    "answers['4'] = int(round(df.describe().loc['mean'].runtime))\n",
    "print(answers['4'])"
   ]
  },
  {
   "cell_type": "markdown",
   "metadata": {
    "colab_type": "text",
    "id": "r5TvbnT_Vp-u"
   },
   "source": [
    "# 5. Каково медианное значение длительности фильмов? "
   ]
  },
  {
   "cell_type": "code",
   "execution_count": 9,
   "metadata": {
    "colab": {},
    "colab_type": "code",
    "id": "iBROplKnVp-v"
   },
   "outputs": [
    {
     "name": "stdout",
     "output_type": "stream",
     "text": [
      "107\n"
     ]
    }
   ],
   "source": [
    "answers['5'] = int(round(df.describe().loc['50%'].runtime))\n",
    "print(answers['5'])"
   ]
  },
  {
   "cell_type": "markdown",
   "metadata": {
    "colab_type": "text",
    "id": "39P-deDSVp-y"
   },
   "source": [
    "# 6. Какой самый прибыльный фильм?\n",
    "#### Внимание! Здесь и далее под «прибылью» или «убытками» понимается разность между сборами и бюджетом фильма. (прибыль = сборы - бюджет) в нашем датасете это будет (profit = revenue - budget) "
   ]
  },
  {
   "cell_type": "code",
   "execution_count": 10,
   "metadata": {
    "colab": {},
    "colab_type": "code",
    "id": "UYZh4T9WVp-y"
   },
   "outputs": [
    {
     "name": "stdout",
     "output_type": "stream",
     "text": [
      "Вы думаете и в жизни у вас будут варианты ответов?. Avatar (tt0499549) 2544505847 237000000\n"
     ]
    }
   ],
   "source": [
    "found = df[df.profit == df.profit.max()].iloc[0]\n",
    "\n",
    "answers['6'] = format_movie(found)\n",
    "print(answers['6'], found.profit, found.budget)\n"
   ]
  },
  {
   "cell_type": "markdown",
   "metadata": {
    "colab_type": "text",
    "id": "M99JmIX4Vp-2"
   },
   "source": [
    "# 7. Какой фильм самый убыточный? "
   ]
  },
  {
   "cell_type": "code",
   "execution_count": 11,
   "metadata": {
    "colab": {},
    "colab_type": "code",
    "id": "w-D2m4XPVp-3"
   },
   "outputs": [
    {
     "name": "stdout",
     "output_type": "stream",
     "text": [
      "Вы думаете и в жизни у вас будут варианты ответов?. The Lone Ranger (tt1210819) -165710090 255000000\n"
     ]
    }
   ],
   "source": [
    "found = df[df.profit == df.profit.min()].iloc[0]\n",
    "\n",
    "answers['7'] = format_movie(found)\n",
    "print(answers['7'], found.profit, found.budget)\n"
   ]
  },
  {
   "cell_type": "markdown",
   "metadata": {
    "colab_type": "text",
    "id": "wEOM5ERVVp-6"
   },
   "source": [
    "# 8. У скольких фильмов из датасета объем сборов оказался выше бюджета?"
   ]
  },
  {
   "cell_type": "code",
   "execution_count": 12,
   "metadata": {
    "colab": {},
    "colab_type": "code",
    "id": "y00_7HD6Vp-7"
   },
   "outputs": [
    {
     "name": "stdout",
     "output_type": "stream",
     "text": [
      "1478\n"
     ]
    }
   ],
   "source": [
    "answers['8'] = len(df[df.profit > 0])\n",
    "print(answers['8'])"
   ]
  },
  {
   "cell_type": "markdown",
   "metadata": {
    "colab_type": "text",
    "id": "xhpspA9KVp_A"
   },
   "source": [
    "# 9. Какой фильм оказался самым кассовым в 2008 году?"
   ]
  },
  {
   "cell_type": "code",
   "execution_count": 13,
   "metadata": {
    "colab": {},
    "colab_type": "code",
    "id": "MoUyQr9RVp_B"
   },
   "outputs": [
    {
     "name": "stdout",
     "output_type": "stream",
     "text": [
      "Вы думаете и в жизни у вас будут варианты ответов?. The Dark Knight (tt0468569)\n"
     ]
    }
   ],
   "source": [
    "films2008 = df[df.release_year == 2008]\n",
    "found = films2008[films2008.revenue == films2008.revenue.max()].iloc[0]\n",
    "\n",
    "answers['9'] = format_movie(found)\n",
    "print(answers['9'])"
   ]
  },
  {
   "cell_type": "markdown",
   "metadata": {
    "colab_type": "text",
    "id": "Zi4hDKidVp_F"
   },
   "source": [
    "# 10. Самый убыточный фильм за период с 2012 по 2014 г. (включительно)?\n"
   ]
  },
  {
   "cell_type": "code",
   "execution_count": 14,
   "metadata": {
    "colab": {},
    "colab_type": "code",
    "id": "XqyRmufJVp_F"
   },
   "outputs": [
    {
     "name": "stdout",
     "output_type": "stream",
     "text": [
      "Вы думаете и в жизни у вас будут варианты ответов?. The Lone Ranger (tt1210819)\n"
     ]
    }
   ],
   "source": [
    "films1214 = df[(2012 <= df.release_year) & (df.release_year <= 2014)]\n",
    "found = films1214[films1214.profit == films1214.profit.min()].iloc[0]\n",
    "\n",
    "answers['10'] = format_movie(found)\n",
    "print(answers['10'])"
   ]
  },
  {
   "cell_type": "markdown",
   "metadata": {
    "colab_type": "text",
    "id": "EA7Sa9dkVp_I"
   },
   "source": [
    "# 11. Какого жанра фильмов больше всего?"
   ]
  },
  {
   "cell_type": "code",
   "execution_count": 15,
   "metadata": {
    "colab": {},
    "colab_type": "code",
    "id": "zsJAwJ8QVp_J"
   },
   "outputs": [
    {
     "name": "stdout",
     "output_type": "stream",
     "text": [
      "Drama 782\n"
     ]
    }
   ],
   "source": [
    "all_genres = flat_map(df, lambda row: row.genres)\n",
    "all_genres_counts = pd.Series(all_genres).value_counts()\n",
    "\n",
    "answers['11'] = all_genres_counts.index[0]\n",
    "print(answers['11'], all_genres_counts[0])\n"
   ]
  },
  {
   "cell_type": "markdown",
   "metadata": {
    "colab_type": "text",
    "id": "Ax6g2C8SVp_M"
   },
   "source": [
    "ВАРИАНТ 2"
   ]
  },
  {
   "cell_type": "code",
   "execution_count": 16,
   "metadata": {
    "colab": {},
    "colab_type": "code",
    "id": "otO3SbrSVp_N"
   },
   "outputs": [
    {
     "name": "stdout",
     "output_type": "stream",
     "text": [
      "Drama 782\n"
     ]
    }
   ],
   "source": [
    "all_genres = []\n",
    "for genres in df['genres']:\n",
    "    for genre in genres:\n",
    "        all_genres.append(genre)\n",
    "    \n",
    "all_genres_counts = pd.Series(all_genres).value_counts()\n",
    "\n",
    "answers['11'] = all_genres_counts.index[0]\n",
    "print(answers['11'], all_genres_counts[0])"
   ]
  },
  {
   "cell_type": "markdown",
   "metadata": {
    "colab_type": "text",
    "id": "T9_bPWpkVp_Q"
   },
   "source": [
    "# 12. Фильмы какого жанра чаще всего становятся прибыльными? "
   ]
  },
  {
   "cell_type": "code",
   "execution_count": 17,
   "metadata": {
    "colab": {},
    "colab_type": "code",
    "id": "Tmt8MaK1Vp_R"
   },
   "outputs": [
    {
     "name": "stdout",
     "output_type": "stream",
     "text": [
      "Drama 560\n"
     ]
    }
   ],
   "source": [
    "profit_movies = df[df.profit > 0]\n",
    "profit_movies_genres = flat_map(profit_movies, lambda row: row.genres)\n",
    "profit_movies_genres_counts = pd.Series(profit_movies_genres).value_counts()\n",
    "\n",
    "answers['12'] = profit_movies_genres_counts.index[0]\n",
    "print(answers['12'], profit_movies_genres_counts[0])"
   ]
  },
  {
   "cell_type": "markdown",
   "metadata": {
    "colab_type": "text",
    "id": "0F23bgsDVp_U"
   },
   "source": [
    "# 13. У какого режиссера самые большие суммарные кассовые сбооры?"
   ]
  },
  {
   "cell_type": "code",
   "execution_count": 18,
   "metadata": {
    "colab": {},
    "colab_type": "code",
    "id": "K6Z3J8ygVp_X",
    "scrolled": true
   },
   "outputs": [
    {
     "name": "stdout",
     "output_type": "stream",
     "text": [
      "Peter Jackson 6490593685\n"
     ]
    }
   ],
   "source": [
    "revenues_by_director = Counter()\n",
    "\n",
    "for row in df.itertuples():\n",
    "    for director in row.director:\n",
    "        revenues_by_director[director] += row.revenue\n",
    "\n",
    "answers['13'] = revenues_by_director.most_common(1)[0][0]\n",
    "print(answers['13'], revenues_by_director.most_common(1)[0][1])\n"
   ]
  },
  {
   "cell_type": "markdown",
   "metadata": {},
   "source": [
    "ВАРИАНТ 2"
   ]
  },
  {
   "cell_type": "code",
   "execution_count": 19,
   "metadata": {},
   "outputs": [
    {
     "name": "stdout",
     "output_type": "stream",
     "text": [
      "Peter Jackson 6490593685\n"
     ]
    }
   ],
   "source": [
    "revenues_by_director = count_by_collection_item(df, lambda row: row.director, lambda row: row.revenue)\n",
    "\n",
    "answers['13'] = revenues_by_director.most_common(1)[0][0]\n",
    "print(answers['13'], revenues_by_director.most_common(1)[0][1])\n"
   ]
  },
  {
   "cell_type": "markdown",
   "metadata": {
    "colab_type": "text",
    "id": "PsYC9FgRVp_a"
   },
   "source": [
    "# 14. Какой режисер снял больше всего фильмов в стиле Action?"
   ]
  },
  {
   "cell_type": "code",
   "execution_count": 20,
   "metadata": {
    "colab": {},
    "colab_type": "code",
    "id": "wd2M-wHeVp_b"
   },
   "outputs": [
    {
     "name": "stdout",
     "output_type": "stream",
     "text": [
      "Robert Rodriguez 9\n"
     ]
    }
   ],
   "source": [
    "action_movies = df[original_data.genres.str.contains('Action', na=False)]\n",
    "action_directors = flat_map(action_movies, lambda row: row.director)\n",
    "action_directors_counts = pd.Series(action_directors).value_counts()\n",
    "\n",
    "answers['14'] = action_directors_counts.index[0]\n",
    "print(answers['14'], action_directors_counts[0])\n"
   ]
  },
  {
   "cell_type": "markdown",
   "metadata": {
    "colab_type": "text",
    "id": "PQ0KciD7Vp_f"
   },
   "source": [
    "# 15. Фильмы с каким актером принесли самые высокие кассовые сборы в 2012 году? "
   ]
  },
  {
   "cell_type": "code",
   "execution_count": 21,
   "metadata": {
    "colab": {},
    "colab_type": "code",
    "id": "aga62oeKVp_g",
    "scrolled": true
   },
   "outputs": [
    {
     "name": "stdout",
     "output_type": "stream",
     "text": [
      "Chris Hemsworth 2027450773\n"
     ]
    }
   ],
   "source": [
    "revenue_by_actor = Counter()\n",
    "\n",
    "for row in df[df.release_year == 2012].itertuples():\n",
    "    for actor in row.cast:\n",
    "        revenue_by_actor[actor] += row.revenue\n",
    "\n",
    "top_revenue_actor = revenue_by_actor.most_common(1)[0]\n",
    "answers['15'] = top_revenue_actor[0]\n",
    "print(answers['15'], top_revenue_actor[1])"
   ]
  },
  {
   "cell_type": "markdown",
   "metadata": {},
   "source": [
    "ВАРИАНТ 2"
   ]
  },
  {
   "cell_type": "code",
   "execution_count": 22,
   "metadata": {},
   "outputs": [
    {
     "name": "stdout",
     "output_type": "stream",
     "text": [
      "Chris Hemsworth 2027450773\n"
     ]
    }
   ],
   "source": [
    "revenue_by_actor = count_by_collection_item(df[df.release_year == 2012], lambda row: row.cast, lambda row: row.revenue)\n",
    "\n",
    "top_revenue_actor = revenue_by_actor.most_common(1)[0]\n",
    "answers['15'] = top_revenue_actor[0]\n",
    "print(answers['15'], top_revenue_actor[1])"
   ]
  },
  {
   "cell_type": "markdown",
   "metadata": {
    "colab_type": "text",
    "id": "mWHyyL7QVp_j"
   },
   "source": [
    "# 16. Какой актер снялся в большем количестве высокобюджетных фильмов?"
   ]
  },
  {
   "cell_type": "code",
   "execution_count": 23,
   "metadata": {
    "colab": {},
    "colab_type": "code",
    "id": "qQtmHKTFVp_k"
   },
   "outputs": [
    {
     "name": "stdout",
     "output_type": "stream",
     "text": [
      "Matt Damon 18\n"
     ]
    }
   ],
   "source": [
    "high_budget_movies = df[df.budget > df.budget.mean()]\n",
    "\n",
    "high_budget_movies_by_actor = Counter()\n",
    "\n",
    "for row in high_budget_movies.itertuples():\n",
    "    for actor in row.cast:\n",
    "        high_budget_movies_by_actor[actor] += 1\n",
    "\n",
    "top_actor = high_budget_movies_by_actor.most_common(1)[0]\n",
    "answers['16'] = top_actor[0]\n",
    "print(answers['16'], top_actor[1])"
   ]
  },
  {
   "cell_type": "markdown",
   "metadata": {},
   "source": [
    "ВАРИАНТ 2"
   ]
  },
  {
   "cell_type": "code",
   "execution_count": 24,
   "metadata": {},
   "outputs": [
    {
     "name": "stdout",
     "output_type": "stream",
     "text": [
      "Matt Damon 18\n"
     ]
    }
   ],
   "source": [
    "high_budget_movies = df[df.budget > df.budget.mean()]\n",
    "\n",
    "high_budget_movies_by_actor = count_by_collection_item(high_budget_movies, lambda row: row.cast)\n",
    "\n",
    "top_actor = high_budget_movies_by_actor.most_common(1)[0]\n",
    "answers['16'] = top_actor[0]\n",
    "print(answers['16'], top_actor[1])"
   ]
  },
  {
   "cell_type": "markdown",
   "metadata": {
    "colab_type": "text",
    "id": "NIh6AaW5Vp_n"
   },
   "source": [
    "# 17. В фильмах какого жанра больше всего снимался Nicolas Cage? "
   ]
  },
  {
   "cell_type": "code",
   "execution_count": 25,
   "metadata": {
    "colab": {},
    "colab_type": "code",
    "id": "H74SJDIBVp_n"
   },
   "outputs": [
    {
     "name": "stdout",
     "output_type": "stream",
     "text": [
      "Action 15\n"
     ]
    }
   ],
   "source": [
    "the_movies = df[original_data.cast.str.contains('Nicolas Cage')]\n",
    "the_genres = flat_map(the_movies, lambda row: row.genres)\n",
    "the_genres_counts = pd.Series(the_genres).value_counts()\n",
    "\n",
    "answers['17'] = the_genres_counts.index[0]\n",
    "print(answers['17'], the_genres_counts[1])"
   ]
  },
  {
   "cell_type": "markdown",
   "metadata": {
    "colab_type": "text",
    "id": "RqOmPRfWVp_q"
   },
   "source": [
    "# 18. Самый убыточный фильм от Paramount Pictures"
   ]
  },
  {
   "cell_type": "code",
   "execution_count": 26,
   "metadata": {
    "colab": {},
    "colab_type": "code",
    "id": "9E_B0Y96Vp_r"
   },
   "outputs": [
    {
     "name": "stdout",
     "output_type": "stream",
     "text": [
      "Вы думаете и в жизни у вас будут варианты ответов?. K-19: The Widowmaker (tt0267626)\n"
     ]
    }
   ],
   "source": [
    "paramount_movies = df[original_data.production_companies.str.contains('Paramount Pictures')]\n",
    "worst_movie = paramount_movies.sort_values(by='profit').iloc[0]\n",
    "\n",
    "answers['18'] = format_movie(worst_movie)\n",
    "print(answers['18'])"
   ]
  },
  {
   "cell_type": "markdown",
   "metadata": {
    "colab_type": "text",
    "id": "vS8Ur6ddVp_u"
   },
   "source": [
    "# 19. Какой год стал самым успешным по суммарным кассовым сборам?"
   ]
  },
  {
   "cell_type": "code",
   "execution_count": 27,
   "metadata": {
    "colab": {},
    "colab_type": "code",
    "id": "Dnbt4GdIVp_v"
   },
   "outputs": [
    {
     "name": "stdout",
     "output_type": "stream",
     "text": [
      "2015 25449202382\n"
     ]
    }
   ],
   "source": [
    "annual_profits = df.groupby(['release_year'])['revenue'].sum().sort_values(ascending=False)\n",
    "\n",
    "answers['19'] = annual_profits.index[0]\n",
    "print(answers['19'], annual_profits.iloc[0])"
   ]
  },
  {
   "cell_type": "markdown",
   "metadata": {
    "colab_type": "text",
    "id": "JAzJh4QAVp_z"
   },
   "source": [
    "# 20. Какой самый прибыльный год для студии Warner Bros?"
   ]
  },
  {
   "cell_type": "code",
   "execution_count": 28,
   "metadata": {
    "colab": {},
    "colab_type": "code",
    "id": "wgVu02DEVp_0"
   },
   "outputs": [
    {
     "name": "stdout",
     "output_type": "stream",
     "text": [
      "2014 2295464519\n"
     ]
    }
   ],
   "source": [
    "warner_movies = df[original_data.production_companies.str.contains('Warner Bros')]\n",
    "annual_profits = warner_movies.groupby(['release_year'])['profit'].sum().sort_values(ascending=False)\n",
    "\n",
    "answers['20'] = annual_profits.index[0]\n",
    "print(answers['20'], annual_profits.iloc[0])"
   ]
  },
  {
   "cell_type": "markdown",
   "metadata": {
    "colab_type": "text",
    "id": "8Im1S2HRVp_4"
   },
   "source": [
    "# 21. В каком месяце за все годы суммарно вышло больше всего фильмов?"
   ]
  },
  {
   "cell_type": "code",
   "execution_count": 29,
   "metadata": {
    "colab": {},
    "colab_type": "code",
    "id": "lev6TH7gVp_4"
   },
   "outputs": [
    {
     "name": "stdout",
     "output_type": "stream",
     "text": [
      "9 227\n"
     ]
    }
   ],
   "source": [
    "movies_by_month = df.groupby(['release_month'])['imdb_id'].count().sort_values(ascending=False)\n",
    "\n",
    "answers['21'] = movies_by_month.index[0]\n",
    "print(answers['21'], movies_by_month.iloc[0])"
   ]
  },
  {
   "cell_type": "markdown",
   "metadata": {
    "colab_type": "text",
    "id": "uAJsZ_NeVp_7"
   },
   "source": [
    "# 22. Сколько суммарно вышло фильмов летом? (за июнь, июль, август)"
   ]
  },
  {
   "cell_type": "code",
   "execution_count": 30,
   "metadata": {
    "colab": {},
    "colab_type": "code",
    "id": "Aa-hEREoVp_8"
   },
   "outputs": [
    {
     "name": "stdout",
     "output_type": "stream",
     "text": [
      "450\n"
     ]
    }
   ],
   "source": [
    "summer_movies = df[df.release_month.isin([6, 7, 8])]\n",
    "\n",
    "answers['22'] = len(summer_movies)\n",
    "print(answers['22'])"
   ]
  },
  {
   "cell_type": "markdown",
   "metadata": {
    "colab_type": "text",
    "id": "G94ppOY1VqAA"
   },
   "source": [
    "# 23. Для какого режиссера зима – самое продуктивное время года? "
   ]
  },
  {
   "cell_type": "code",
   "execution_count": 31,
   "metadata": {
    "colab": {},
    "colab_type": "code",
    "id": "RhNTsamuVqAB"
   },
   "outputs": [
    {
     "name": "stdout",
     "output_type": "stream",
     "text": [
      "Peter Jackson 7\n"
     ]
    }
   ],
   "source": [
    "winter_movies = df[df.release_month.isin([12, 1, 2])]\n",
    "\n",
    "winter_movies_directors = flat_map(winter_movies, lambda row: row.director)\n",
    "winter_movies_directors_counts = pd.Series(winter_movies_directors).value_counts()\n",
    "winter_movies_directors_counts\n",
    "\n",
    "answers['23'] = winter_movies_directors_counts.index[0]\n",
    "print(answers['23'], winter_movies_directors_counts.iloc[0])"
   ]
  },
  {
   "cell_type": "markdown",
   "metadata": {
    "colab_type": "text",
    "id": "RBo0JVjVVqAF"
   },
   "source": [
    "# 24. Какая студия дает самые длинные названия своим фильмам по количеству символов?"
   ]
  },
  {
   "cell_type": "code",
   "execution_count": 32,
   "metadata": {
    "colab": {},
    "colab_type": "code",
    "id": "QRGS8L0iVqAG"
   },
   "outputs": [
    {
     "name": "stdout",
     "output_type": "stream",
     "text": [
      "Four By Two Productions 83.0\n"
     ]
    }
   ],
   "source": [
    "titles_by_studio = {}\n",
    "title_size_by_studio = {}\n",
    "\n",
    "for row in df.itertuples():\n",
    "    for studio in row.production_companies:\n",
    "        if studio not in titles_by_studio:\n",
    "            titles_by_studio[studio] = []\n",
    "        titles_by_studio[studio].append(row.original_title)\n",
    "        \n",
    "for studio in titles_by_studio:\n",
    "    title_size_by_studio[studio] = pd.Series(list(map(lambda title: len(title), titles_by_studio[studio]))).mean()\n",
    "\n",
    "title_size_by_studio = sort_dictionary_by_value(title_size_by_studio)\n",
    "\n",
    "key = next(iter(title_size_by_studio))\n",
    "answers['24'] = key\n",
    "print(answers['24'], title_size_by_studio[key])"
   ]
  },
  {
   "cell_type": "markdown",
   "metadata": {
    "colab_type": "text",
    "id": "9G0hbvR7VqAK"
   },
   "source": [
    "# 25. Описание фильмов какой студии в среднем самые длинные по количеству слов?"
   ]
  },
  {
   "cell_type": "code",
   "execution_count": 33,
   "metadata": {
    "colab": {},
    "colab_type": "code",
    "id": "Ge2GsLNxVqAK"
   },
   "outputs": [
    {
     "name": "stdout",
     "output_type": "stream",
     "text": [
      "Midnight Picture Show 1000.0\n"
     ]
    }
   ],
   "source": [
    "overviews_by_studio = {}\n",
    "overviews_size_by_studio = {}\n",
    "\n",
    "for row in df.itertuples():\n",
    "    for studio in row.production_companies:\n",
    "        if studio not in overviews_by_studio:\n",
    "            overviews_by_studio[studio] = []\n",
    "        overviews_by_studio[studio].append(row.overview)\n",
    "        \n",
    "for studio in overviews_by_studio:\n",
    "    overviews_size_by_studio[studio] = pd.Series(list(map(lambda title: len(title), overviews_by_studio[studio]))).mean()\n",
    "\n",
    "overviews_size_by_studio = sort_dictionary_by_value(overviews_size_by_studio)\n",
    "\n",
    "key = next(iter(overviews_size_by_studio))\n",
    "answers['25'] = key\n",
    "print(answers['25'], overviews_size_by_studio[key])"
   ]
  },
  {
   "cell_type": "markdown",
   "metadata": {
    "colab_type": "text",
    "id": "FJ1AFt90VqAP"
   },
   "source": [
    "# 26. Какие фильмы входят в 1 процент лучших по рейтингу? \n",
    "по vote_average"
   ]
  },
  {
   "cell_type": "code",
   "execution_count": 34,
   "metadata": {
    "colab": {},
    "colab_type": "code",
    "id": "8qmJVq4CVqAQ"
   },
   "outputs": [
    {
     "data": {
      "text/plain": [
       "['The Dark Knight',\n",
       " 'Interstellar',\n",
       " 'The Imitation Game',\n",
       " 'Inside Out',\n",
       " 'Room',\n",
       " 'The Wolf of Wall Street',\n",
       " 'Gone Girl',\n",
       " '12 Years a Slave',\n",
       " 'Guardians of the Galaxy',\n",
       " 'The Lord of the Rings: The Return of the King',\n",
       " 'Memento',\n",
       " 'Inception',\n",
       " 'The Pianist',\n",
       " 'The Grand Budapest Hotel',\n",
       " 'Her',\n",
       " 'Spotlight',\n",
       " 'Big Hero 6',\n",
       " 'The Fault in Our Stars']"
      ]
     },
     "metadata": {},
     "output_type": "display_data"
    },
    {
     "name": "stdout",
     "output_type": "stream",
     "text": [
      "Inside Out, The Dark Knight, 12 Years a Slave\n"
     ]
    }
   ],
   "source": [
    "# TODO: what is the better way to cut out 99% ?\n",
    "# (moovies with rating 7.8 get inside both 1% and 99% ranges)\n",
    "movies_count_in_percent = int(len(df) / 100)\n",
    "\n",
    "top_movies = df.sort_values(by='vote_average', ascending=False).head(movies_count_in_percent)\n",
    "display(list(top_movies['original_title']))\n",
    "\n",
    "answers['26'] = 'Inside Out, The Dark Knight, 12 Years a Slave'\n",
    "print(answers['26'])"
   ]
  },
  {
   "cell_type": "markdown",
   "metadata": {
    "colab_type": "text",
    "id": "MdXsUXbCVqAV"
   },
   "source": [
    "# 27. Какие актеры чаще всего снимаются в одном фильме вместе?\n"
   ]
  },
  {
   "cell_type": "code",
   "execution_count": 35,
   "metadata": {
    "scrolled": false
   },
   "outputs": [
    {
     "name": "stdout",
     "output_type": "stream",
     "text": [
      "Daniel Radcliffe & Rupert Grint 8\n"
     ]
    }
   ],
   "source": [
    "actor_pairs = Counter()\n",
    "\n",
    "for row in df.itertuples():\n",
    "    for actor1 in row.cast:\n",
    "        for actor2 in row.cast:\n",
    "            if (actor1 != actor2) & (actor1 < actor2):\n",
    "                actor_pairs[\"{} & {}\".format(actor1, actor2)] += 1\n",
    "\n",
    "top_pairs = actor_pairs.most_common()\n",
    "\n",
    "answers['27'] = top_pairs[0][0]\n",
    "print(answers['27'], top_pairs[0][1])"
   ]
  },
  {
   "cell_type": "markdown",
   "metadata": {
    "colab_type": "text",
    "id": "U0nONFnGVqAX"
   },
   "source": [
    "# Submission"
   ]
  },
  {
   "cell_type": "code",
   "execution_count": 36,
   "metadata": {
    "colab": {},
    "colab_type": "code",
    "id": "IfcaRO9-VqAX",
    "outputId": "0f132912-32bb-4196-c98c-abfbc4ad5a5f"
   },
   "outputs": [
    {
     "data": {
      "text/plain": [
       "{'1': 'Вы думаете и в жизни у вас будут варианты ответов?. Pirates of the Caribbean: On Stranger Tides (tt1298650)',\n",
       " '2': 'Вы думаете и в жизни у вас будут варианты ответов?. Gods and Generals (tt0279111)',\n",
       " '3': 'Вы думаете и в жизни у вас будут варианты ответов?. Winnie the Pooh (tt1449283)',\n",
       " '4': 110,\n",
       " '5': 107,\n",
       " '6': 'Вы думаете и в жизни у вас будут варианты ответов?. Avatar (tt0499549)',\n",
       " '7': 'Вы думаете и в жизни у вас будут варианты ответов?. The Lone Ranger (tt1210819)',\n",
       " '8': 1478,\n",
       " '9': 'Вы думаете и в жизни у вас будут варианты ответов?. The Dark Knight (tt0468569)',\n",
       " '10': 'Вы думаете и в жизни у вас будут варианты ответов?. The Lone Ranger (tt1210819)',\n",
       " '11': 'Drama',\n",
       " '12': 'Drama',\n",
       " '13': 'Peter Jackson',\n",
       " '14': 'Robert Rodriguez',\n",
       " '15': 'Chris Hemsworth',\n",
       " '16': 'Matt Damon',\n",
       " '17': 'Action',\n",
       " '18': 'Вы думаете и в жизни у вас будут варианты ответов?. K-19: The Widowmaker (tt0267626)',\n",
       " '19': 2015,\n",
       " '20': 2014,\n",
       " '21': 9,\n",
       " '22': 450,\n",
       " '23': 'Peter Jackson',\n",
       " '24': 'Four By Two Productions',\n",
       " '25': 'Midnight Picture Show',\n",
       " '26': 'Inside Out, The Dark Knight, 12 Years a Slave',\n",
       " '27': 'Daniel Radcliffe & Rupert Grint'}"
      ]
     },
     "execution_count": 36,
     "metadata": {},
     "output_type": "execute_result"
    }
   ],
   "source": [
    "answers"
   ]
  },
  {
   "cell_type": "code",
   "execution_count": 37,
   "metadata": {
    "colab": {},
    "colab_type": "code",
    "id": "SiRmHPl8VqAd"
   },
   "outputs": [
    {
     "data": {
      "text/plain": [
       "27"
      ]
     },
     "execution_count": 37,
     "metadata": {},
     "output_type": "execute_result"
    }
   ],
   "source": [
    "len(answers)"
   ]
  }
 ],
 "metadata": {
  "colab": {
   "name": "Copy of [SF-DST] Movies IMBD v4.1 TEMPLATE.ipynb",
   "provenance": []
  },
  "kernelspec": {
   "display_name": "Python 3",
   "language": "python",
   "name": "python3"
  },
  "language_info": {
   "codemirror_mode": {
    "name": "ipython",
    "version": 3
   },
   "file_extension": ".py",
   "mimetype": "text/x-python",
   "name": "python",
   "nbconvert_exporter": "python",
   "pygments_lexer": "ipython3",
   "version": "3.7.6"
  }
 },
 "nbformat": 4,
 "nbformat_minor": 1
}
